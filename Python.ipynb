{
  "nbformat": 4,
  "nbformat_minor": 0,
  "metadata": {
    "colab": {
      "name": "Python.ipynb",
      "provenance": [],
      "collapsed_sections": [],
      "authorship_tag": "ABX9TyORxvPKqX2Bcn7Xy60AICyU",
      "include_colab_link": true
    },
    "kernelspec": {
      "name": "python3",
      "display_name": "Python 3"
    }
  },
  "cells": [
    {
      "cell_type": "markdown",
      "metadata": {
        "id": "view-in-github",
        "colab_type": "text"
      },
      "source": [
        "<a href=\"https://colab.research.google.com/github/kavya2299/Python/blob/master/Python.ipynb\" target=\"_parent\"><img src=\"https://colab.research.google.com/assets/colab-badge.svg\" alt=\"Open In Colab\"/></a>"
      ]
    },
    {
      "cell_type": "markdown",
      "metadata": {
        "id": "iBsjXkS6aR8P",
        "colab_type": "text"
      },
      "source": [
        "## Arithmetic operations\n"
      ]
    },
    {
      "cell_type": "code",
      "metadata": {
        "id": "hq0XD0_FVbRV",
        "colab_type": "code",
        "outputId": "2c9e0e0f-c663-4103-ca29-e635961d58ef",
        "colab": {
          "base_uri": "https://localhost:8080/",
          "height": 302
        }
      },
      "source": [
        "# only integer values\n",
        "print('addition')\n",
        "print(34+56) \n",
        "print('subtraction')\n",
        "print(56-6)\n",
        "print(56-98)\n",
        "print('multiplication')\n",
        "print(3*67)\n",
        "# same applies to float values\n",
        "\n",
        "# every division results in a float result\n",
        "print('division')\n",
        "print(20/5)\n",
        "print(23/3)\n",
        "print(124/8) \n",
        "# to eliminate float, and to convert to integer, we use '//'\n",
        "print('division without float')\n",
        "print(24//5)\n",
        "print(87//34)\n",
        "# to get the remainder in the process of division, use mod(%)\n",
        "print('only the remainders')\n",
        "print(32 % 3)\n",
        "print(24 % 5)  "
      ],
      "execution_count": 0,
      "outputs": [
        {
          "output_type": "stream",
          "text": [
            "addition\n",
            "90\n",
            "subtraction\n",
            "50\n",
            "-42\n",
            "multiplication\n",
            "201\n",
            "division\n",
            "4.0\n",
            "7.666666666666667\n",
            "15.5\n",
            "division without float\n",
            "4\n",
            "2\n",
            "only the remainders\n",
            "2\n",
            "4\n"
          ],
          "name": "stdout"
        }
      ]
    },
    {
      "cell_type": "markdown",
      "metadata": {
        "id": "_KfoGSl5fJj4",
        "colab_type": "text"
      },
      "source": [
        "## Playing with strings\n"
      ]
    },
    {
      "cell_type": "code",
      "metadata": {
        "id": "IR7punCrfOR7",
        "colab_type": "code",
        "outputId": "b1c7d01c-02bb-4f65-b952-338e70e2b73d",
        "colab": {
          "base_uri": "https://localhost:8080/",
          "height": 205
        }
      },
      "source": [
        "# note the changes made in each line to understand how the syntax affects the strings\n",
        "print('my name is you know who')\n",
        "print(\"jesus is mary's son\")\n",
        "print('\"jesus\" is the only son of mary')\n",
        "print('jesus is mary\\'s son')\n",
        "\n",
        "# to concat two strings\n",
        "print('taylor'+' '+'swift')\n",
        "print('selena '*(10+8))\n",
        "\n",
        "# to introduce a new line use \\n\n",
        "print('\\ntina is beautiful\\nread good books')\n",
        "print('\\a')"
      ],
      "execution_count": 0,
      "outputs": [
        {
          "output_type": "stream",
          "text": [
            "my name is you know who\n",
            "jesus is mary's son\n",
            "\"jesus\" is the only son of mary\n",
            "jesus is mary's son\n",
            "taylor swift\n",
            "selena selena selena selena selena selena selena selena selena selena selena selena selena selena selena selena selena selena \n",
            "\n",
            "tina is beautiful\n",
            "read good books\n",
            "\u0007\n"
          ],
          "name": "stdout"
        }
      ]
    },
    {
      "cell_type": "markdown",
      "metadata": {
        "id": "Qkk4c_6Epbpz",
        "colab_type": "text"
      },
      "source": [
        "## Variables\n"
      ]
    },
    {
      "cell_type": "code",
      "metadata": {
        "id": "AXxvT_vopzEK",
        "colab_type": "code",
        "outputId": "01403bda-6aa0-4924-9dcf-92212a23f2f2",
        "colab": {
          "base_uri": "https://localhost:8080/",
          "height": 50
        }
      },
      "source": [
        "abc = 4\n",
        "d = 5\n",
        "print(abc*d)\n",
        "print(abc+d)"
      ],
      "execution_count": 0,
      "outputs": [
        {
          "output_type": "stream",
          "text": [
            "20\n",
            "9\n"
          ],
          "name": "stdout"
        }
      ]
    },
    {
      "cell_type": "code",
      "metadata": {
        "id": "Mk4x-jsmqJnx",
        "colab_type": "code",
        "outputId": "c99b1c9d-12ab-4994-923a-c0a5301352e3",
        "colab": {
          "base_uri": "https://localhost:8080/",
          "height": 185
        }
      },
      "source": [
        "name = \"claudia loves ron\"\n",
        "print(name)\n",
        "print(name[0])\n",
        "print(len(name))\n",
        "print(name[15])\n",
        "print(name[-1])\n",
        "print(name[-16])\n",
        "print(name[0:10])\n",
        "print(name[:6])\n",
        "print(name[1:4])\n",
        "print(name[9:10])"
      ],
      "execution_count": 0,
      "outputs": [
        {
          "output_type": "stream",
          "text": [
            "claudia loves ron\n",
            "c\n",
            "17\n",
            "o\n",
            "n\n",
            "l\n",
            "claudia lo\n",
            "claudi\n",
            "lau\n",
            "o\n"
          ],
          "name": "stdout"
        }
      ]
    },
    {
      "cell_type": "code",
      "metadata": {
        "id": "JJpE8jnkwgsQ",
        "colab_type": "code",
        "outputId": "24dc35f9-5d14-49d8-9af9-d7c07c4ca305",
        "colab": {
          "base_uri": "https://localhost:8080/",
          "height": 50
        }
      },
      "source": [
        "# any variable is stored at a particular address\n",
        "# for example, when we store 10 in a and then make b = a, we have the address of the variables a and b as the same\n",
        "# similarly, any other variable which points to 10 will be having the same address, no different addresses will be allocated\n",
        "a=10\n",
        "b=a\n",
        "k=10\n",
        "print(id(a),id(b),id(10),id(k))\n",
        "k=8\n",
        "a=9\n",
        "print(id(a),id(b),id(10),id(k))"
      ],
      "execution_count": 0,
      "outputs": [
        {
          "output_type": "stream",
          "text": [
            "10914784 10914784 10914784 10914784\n",
            "10914752 10914784 10914784 10914720\n"
          ],
          "name": "stdout"
        }
      ]
    },
    {
      "cell_type": "markdown",
      "metadata": {
        "id": "vHZEF_AuxsXQ",
        "colab_type": "text"
      },
      "source": [
        "### Data Types"
      ]
    },
    {
      "cell_type": "code",
      "metadata": {
        "id": "gG9lIOuyxu3a",
        "colab_type": "code",
        "outputId": "3b592ab7-3325-4b57-c29e-fd177d75f1fe",
        "colab": {
          "base_uri": "https://localhost:8080/",
          "height": 101
        }
      },
      "source": [
        "print(type(a))\n",
        "PI=3.14\n",
        "print(type(PI))\n",
        "\n",
        "# to convert from one data type to another\n",
        "print(int(a))\n",
        "print(float(a))\n",
        "print(list(range(10)))"
      ],
      "execution_count": 0,
      "outputs": [
        {
          "output_type": "stream",
          "text": [
            "<class 'int'>\n",
            "<class 'float'>\n",
            "9\n",
            "9.0\n",
            "[0, 1, 2, 3, 4, 5, 6, 7, 8, 9]\n"
          ],
          "name": "stdout"
        }
      ]
    },
    {
      "cell_type": "markdown",
      "metadata": {
        "id": "VbsmJMhPtsfM",
        "colab_type": "text"
      },
      "source": [
        "## Lists\n"
      ]
    },
    {
      "cell_type": "code",
      "metadata": {
        "id": "2Ab5kGnjtwWT",
        "colab_type": "code",
        "outputId": "4155f531-8cfa-4df4-a190-ea4d28979d98",
        "colab": {
          "base_uri": "https://localhost:8080/",
          "height": 306
        }
      },
      "source": [
        "nums = [12,34,5,5,5,5,5,5,6,7]\n",
        "print(nums)\n",
        "print(len(nums))\n",
        "print(nums[3])\n",
        "print(nums[-1])\n",
        "\n",
        "names = ['john', 'kate', 'chandler', 'monica', 'ross', 'rachel', 'joey', 'phoebe']\n",
        "print(len(names))\n",
        "print(names[0])\n",
        "\n",
        "combine = [nums,names]\n",
        "print(combine)\n",
        "\n",
        "nums.append(56)\n",
        "copy = nums.copy()\n",
        "print(nums.count(5))\n",
        "#print(nums.extend())\n",
        "print(nums.index(6))\n",
        "nums.insert(3,77)\n",
        "print(nums)\n",
        "print(nums.pop(8))\n",
        "nums.remove(34)\n",
        "print(nums)\n",
        "nums.reverse()\n",
        "nums.sort()\n",
        "print(nums)\n",
        "nums.extend([1,2,3,45])\n",
        "print(nums)\n",
        "print(copy)\n",
        "min(nums)\n",
        "max(nums)\n",
        "sum(nums)\n",
        "copy.sort()\n",
        "if (nums!=copy):\n",
        "  print('yes')\n",
        "del nums[6:]"
      ],
      "execution_count": 0,
      "outputs": [
        {
          "output_type": "stream",
          "text": [
            "[12, 34, 5, 5, 5, 5, 5, 5, 6, 7]\n",
            "10\n",
            "5\n",
            "7\n",
            "8\n",
            "john\n",
            "[[12, 34, 5, 5, 5, 5, 5, 5, 6, 7], ['john', 'kate', 'chandler', 'monica', 'ross', 'rachel', 'joey', 'phoebe']]\n",
            "6\n",
            "8\n",
            "[12, 34, 5, 77, 5, 5, 5, 5, 5, 6, 7, 56]\n",
            "5\n",
            "[12, 5, 77, 5, 5, 5, 5, 6, 7, 56]\n",
            "[5, 5, 5, 5, 5, 6, 7, 12, 56, 77]\n",
            "[5, 5, 5, 5, 5, 6, 7, 12, 56, 77, 1, 2, 3, 45]\n",
            "[12, 34, 5, 5, 5, 5, 5, 5, 6, 7, 56]\n",
            "yes\n"
          ],
          "name": "stdout"
        }
      ]
    },
    {
      "cell_type": "markdown",
      "metadata": {
        "id": "V57wb3dH0FSX",
        "colab_type": "text"
      },
      "source": [
        "## Tuples and Sets\n"
      ]
    },
    {
      "cell_type": "markdown",
      "metadata": {
        "id": "TzRVDDAm01bd",
        "colab_type": "text"
      },
      "source": [
        "* Tuples are immutable whereas lists are mutable.\n",
        "* hence, iterations are easier.\n",
        "\n",
        "\n"
      ]
    },
    {
      "cell_type": "code",
      "metadata": {
        "id": "z1dN6HcP0Krd",
        "colab_type": "code",
        "outputId": "fa70b8fe-a046-4180-98cb-9474a1a64e29",
        "colab": {
          "base_uri": "https://localhost:8080/",
          "height": 50
        }
      },
      "source": [
        "# tuples\n",
        "tup = (1,2,34,55)\n",
        "print(tup.count(34))\n",
        "print(tup.index(34))\n"
      ],
      "execution_count": 0,
      "outputs": [
        {
          "output_type": "stream",
          "text": [
            "1\n",
            "2\n"
          ],
          "name": "stdout"
        }
      ]
    },
    {
      "cell_type": "markdown",
      "metadata": {
        "id": "9juqAJaD-yG8",
        "colab_type": "text"
      },
      "source": [
        "* no order in sets\n",
        "* no redundancy, they're eliminated"
      ]
    },
    {
      "cell_type": "code",
      "metadata": {
        "id": "l9lcbMYP-FrD",
        "colab_type": "code",
        "outputId": "825ca8cc-2e87-4862-e729-a5e97b4de45a",
        "colab": {
          "base_uri": "https://localhost:8080/",
          "height": 34
        }
      },
      "source": [
        "# sets\n",
        "s = {22,22,22,43,5}\n",
        "print(s)\n"
      ],
      "execution_count": 0,
      "outputs": [
        {
          "output_type": "stream",
          "text": [
            "{43, 5, 22}\n"
          ],
          "name": "stdout"
        }
      ]
    },
    {
      "cell_type": "markdown",
      "metadata": {
        "id": "hciuq0W8ksTM",
        "colab_type": "text"
      },
      "source": [
        "### Dictionary"
      ]
    },
    {
      "cell_type": "code",
      "metadata": {
        "id": "LZZGyr4Ck5zz",
        "colab_type": "code",
        "outputId": "95dbd78d-bd4b-4bc7-d931-e55785e58af3",
        "colab": {
          "base_uri": "https://localhost:8080/",
          "height": 118
        }
      },
      "source": [
        "data = {6:'Diana', 2:'Viola', 9:'Erica'}\n",
        "print(data)\n",
        "print(data[6])\n",
        "\n",
        "print(data.get(2))\n",
        "data1 = ['Irene', 'Sherlock', 'John']\n",
        "data2 = ['Adler', 'Holmes', 'Watson']\n",
        "data3 = dict(zip(data1,data2))\n",
        "print(data3)\n",
        "\n",
        "data = {'Movies':['Hollywood', 'Bollywood'], 'Songs': {'Jazz': 'Trumpet', 'Classical':'Tabla', 'Rap':'Beat boxing'}}\n",
        "print(data['Movies'])\n",
        "print(data['Songs']['Classical'])"
      ],
      "execution_count": 0,
      "outputs": [
        {
          "output_type": "stream",
          "text": [
            "{6: 'Diana', 2: 'Viola', 9: 'Erica'}\n",
            "Diana\n",
            "Viola\n",
            "{'Irene': 'Adler', 'Sherlock': 'Holmes', 'John': 'Watson'}\n",
            "['Hollywood', 'Bollywood']\n",
            "Tabla\n"
          ],
          "name": "stdout"
        }
      ]
    },
    {
      "cell_type": "markdown",
      "metadata": {
        "id": "dPh33qnYwZtZ",
        "colab_type": "text"
      },
      "source": [
        "### Operators"
      ]
    },
    {
      "cell_type": "code",
      "metadata": {
        "id": "NvXiBUNNq38E",
        "colab_type": "code",
        "outputId": "a0dd583b-b46d-4de1-d22a-24d9d57321cb",
        "colab": {
          "base_uri": "https://localhost:8080/",
          "height": 353
        }
      },
      "source": [
        "# arithmetic operators(+,-,*,/,%,//)\n",
        "# assignment operators\n",
        "a = 4\n",
        "b = 7\n",
        "b+=a\n",
        "print('1:',b)\n",
        "b-=a\n",
        "print('2:',b)\n",
        "b*=a\n",
        "print('3:',b)\n",
        "b/=a\n",
        "print('4:',b)\n",
        "b//=a\n",
        "print('5:',b)\n",
        "b%=a\n",
        "print('6:',b)\n",
        "\n",
        "# unary operator\n",
        "n = 7\n",
        "n= -n\n",
        "print(n)\n",
        "\n",
        "# relational operators\n",
        "a = 4\n",
        "b = 7\n",
        "print(a < b)\n",
        "print(a > b)\n",
        "print(a == b)\n",
        "print(a!=b)\n",
        "\n",
        "# logical operators\n",
        "a = 4\n",
        "b = 7\n",
        "print(a<=5 and b<=10)\n",
        "print(a<10 or b>=2)\n",
        "print(not a)\n",
        "print(a!=b)\n",
        "\n",
        "# bitwise operators\n",
        "a = 12\n",
        "b = 13\n",
        "print(a&b)\n",
        "print(a|b)\n",
        "print(a^b)\n",
        "print(a<<2)\n",
        "print(a>>2)"
      ],
      "execution_count": 0,
      "outputs": [
        {
          "output_type": "stream",
          "text": [
            "1: 11\n",
            "2: 7\n",
            "3: 28\n",
            "4: 7.0\n",
            "5: 1.0\n",
            "6: 1.0\n",
            "-7\n",
            "True\n",
            "False\n",
            "False\n",
            "True\n",
            "True\n",
            "True\n",
            "False\n",
            "True\n",
            "12\n",
            "13\n",
            "1\n",
            "48\n",
            "3\n"
          ],
          "name": "stdout"
        }
      ]
    },
    {
      "cell_type": "markdown",
      "metadata": {
        "id": "f_BJ_Cxu2QSN",
        "colab_type": "text"
      },
      "source": [
        "### Inputting values\n"
      ]
    },
    {
      "cell_type": "code",
      "metadata": {
        "id": "p4yiEqmgJPFf",
        "colab_type": "code",
        "outputId": "53a15868-280a-4983-ccad-e023ed6bcfe7",
        "colab": {
          "base_uri": "https://localhost:8080/",
          "height": 134
        }
      },
      "source": [
        "# any value we enter in input becomes a string\n",
        "# hence, we need to convert it to a desired type\n",
        "a = input(\"Enter a number:\")\n",
        "print(type(a))\n",
        "a = int(a)\n",
        "print(type(a))\n",
        "b = int(input(\"Enter a 2nd number:\"))\n",
        "c = a+b\n",
        "print(c)\n",
        "\n",
        "# to evaluate an expression\n",
        "a = eval(input(\"enter an expression:\"))\n",
        "print(a)"
      ],
      "execution_count": 0,
      "outputs": [
        {
          "output_type": "stream",
          "text": [
            "Enter a number:98\n",
            "<class 'str'>\n",
            "<class 'int'>\n",
            "Enter a 2nd number:98\n",
            "196\n",
            "enter an expression:8+9*123/45+89\n",
            "121.6\n"
          ],
          "name": "stdout"
        }
      ]
    },
    {
      "cell_type": "markdown",
      "metadata": {
        "id": "XJwOgEQ_iwdf",
        "colab_type": "text"
      },
      "source": [
        "### Functions\n",
        "* Pass by value(where the arguments passed are variables and the result of the fuction does not affect the addresses to the values)\n",
        "* Pass by reference(where the arguments passed will point to the same address as before passing it through a function)\n",
        "* Python does not come under either of them\n",
        "* Different types of arguments can be passed:\n",
        "  * Formal (those that are defined in a function)\n",
        "  * Actual (those that are actually passed into a function)\n",
        "    * Position(when each argument passed gets matched with the arguments in the definition of the function wrt their positions)\n",
        "    * Keyworded arguments(when each argument passed is indicated by a keyword itself)\n",
        "    * Default(when one or few of the arguments are not passed at all but they are assigned a default value in the formal arguments)\n",
        "    * Variable-length(when more arguments are inserted when calling a function, they will get recognized only if there is a '*' mentioned before that particular argument(usually 2nd) in the formal definition\n",
        "    * Keyworded variable-length(kwargs-this means that we can get a properly listed out dictionary instead of just a tuple in the previous case"
      ]
    },
    {
      "cell_type": "code",
      "metadata": {
        "id": "4F97the6iv5a",
        "colab_type": "code",
        "colab": {}
      },
      "source": [
        "def fibo_seq(n):\n",
        "  \n",
        "  a = 0\n",
        "  b = 1\n",
        "  \n",
        "  if n==1:\n",
        "    print (a)\n",
        "  elif n==2:\n",
        "    print(a)\n",
        "    print(b)\n",
        "  else:\n",
        "    print(a)\n",
        "    print(b)\n",
        "\n",
        "    for i in range(2,n):\n",
        "      c = a+b\n",
        "      print(c)\n",
        "      a = b\n",
        "      b = c \n",
        "      i+=1\n",
        "fibo_seq(24) \n",
        "   \n"
      ],
      "execution_count": 0,
      "outputs": []
    },
    {
      "cell_type": "code",
      "metadata": {
        "id": "P2x5bNvP91MQ",
        "colab_type": "code",
        "colab": {}
      },
      "source": [
        "def fibo_series(n):\n",
        "  a = 0\n",
        "  b = 1\n",
        "  sum = 0\n",
        "  if n==1:\n",
        "    sum = sum+a\n",
        "  elif n==2:\n",
        "    sum = sum+a+b\n",
        "  else:\n",
        "    sum = a+b\n",
        "    for i in range(2,n):\n",
        "      c = a+b\n",
        "      sum = sum+(c)\n",
        "      a = b\n",
        "      b = c\n",
        "      i+=1\n",
        "  fibo_seq(n)    \n",
        "  print(\"sum of these\",n,\"terms is:\", sum)      \n",
        "\n",
        "fibo_series(20)\n"
      ],
      "execution_count": 0,
      "outputs": []
    },
    {
      "cell_type": "code",
      "metadata": {
        "id": "TYrH7EWYAT8Y",
        "colab_type": "code",
        "outputId": "5e0e7714-33d1-44e5-eae9-bda18dfb5f7c",
        "colab": {
          "base_uri": "https://localhost:8080/",
          "height": 50
        }
      },
      "source": [
        "fac = 1\n",
        "n = int(input())\n",
        "i = 1\n",
        "while(i<n):\n",
        "  fac = fac*(i+1)\n",
        "  i+=1\n",
        "print(fac)"
      ],
      "execution_count": 0,
      "outputs": [
        {
          "output_type": "stream",
          "text": [
            "3\n",
            "6\n"
          ],
          "name": "stdout"
        }
      ]
    },
    {
      "cell_type": "code",
      "metadata": {
        "id": "9oscyEQPUWpR",
        "colab_type": "code",
        "outputId": "ec6e1584-08d3-4b1b-8a40-33889cf34181",
        "colab": {
          "base_uri": "https://localhost:8080/",
          "height": 34
        }
      },
      "source": [
        "def fact(n):\n",
        "  if n==0 or n==1:\n",
        "    fac = 1\n",
        "  else:\n",
        "    fac = 1\n",
        "    i = 1\n",
        "    while(i<n):\n",
        "      fac = fac*(i+1)\n",
        "      i+=1  \n",
        "  print(n,\"! =\",fac)    \n",
        "fact(5)\n"
      ],
      "execution_count": 0,
      "outputs": [
        {
          "output_type": "stream",
          "text": [
            "5 ! = 120\n"
          ],
          "name": "stdout"
        }
      ]
    },
    {
      "cell_type": "code",
      "metadata": {
        "id": "rEz8Yg7oUt2m",
        "colab_type": "code",
        "outputId": "9b60af5e-0244-469b-f6f9-a9be588c0183",
        "colab": {
          "base_uri": "https://localhost:8080/",
          "height": 34
        }
      },
      "source": [
        "# fibo(1) = 0\n",
        "# fibo(2) = 1\n",
        "# fibo(3) = fibo(1) + fibo(2)\n",
        "# :       :   :     :   :\n",
        "# fibo(n) = fibo(n-1)+fibo(n-2)\n",
        "# sum (n) = fibo(n)+fibo(n-1)+\n",
        "\n",
        "def fibo(n):\n",
        "  a = 0\n",
        "  b = 1\n",
        "  if n==1:\n",
        "    return a\n",
        "  elif n==2:\n",
        "    return b\n",
        "    \n",
        "  else:\n",
        "    return (fibo(n-1)+fibo(n-2))\n",
        "   \n",
        "\n",
        "fibo(33)"
      ],
      "execution_count": 7,
      "outputs": [
        {
          "output_type": "execute_result",
          "data": {
            "text/plain": [
              "2178309"
            ]
          },
          "metadata": {
            "tags": []
          },
          "execution_count": 7
        }
      ]
    },
    {
      "cell_type": "code",
      "metadata": {
        "id": "9pmyn4wRrs5q",
        "colab_type": "code",
        "colab": {
          "base_uri": "https://localhost:8080/",
          "height": 50
        },
        "outputId": "d99ecc30-94c7-4bf8-e144-0a23ca7af947"
      },
      "source": [
        "import sys\n",
        "lim = sys.getrecursionlimit()\n",
        "print(lim)\n",
        "new = sys.setrecursionlimit(9000)\n",
        "lim = sys.getrecursionlimit()\n",
        "print(lim)"
      ],
      "execution_count": 10,
      "outputs": [
        {
          "output_type": "stream",
          "text": [
            "9000\n",
            "9000\n"
          ],
          "name": "stdout"
        }
      ]
    },
    {
      "cell_type": "code",
      "metadata": {
        "id": "LjP9Q6tekTdQ",
        "colab_type": "code",
        "outputId": "db2ce72a-dcc1-427c-d1f8-62a0b9203d62",
        "colab": {
          "base_uri": "https://localhost:8080/",
          "height": 34
        }
      },
      "source": [
        "def fact_calc(n):\n",
        "  if n==0:\n",
        "    return 1\n",
        "\n",
        "  return n*fact_calc(n-1)\n",
        "  \n",
        "result = fact_calc(10)  \n",
        "print(result)"
      ],
      "execution_count": 16,
      "outputs": [
        {
          "output_type": "stream",
          "text": [
            "3628800\n"
          ],
          "name": "stdout"
        }
      ]
    },
    {
      "cell_type": "markdown",
      "metadata": {
        "id": "j20T4F5zyJdV",
        "colab_type": "text"
      },
      "source": [
        "### Modules\n",
        "```\n",
        "__name__ = __main__ (if the module running is the first code to run)\n",
        "__name__ = name of the module itself(if the module being called is imported in another module)     \n",
        "```\n",
        "but if we do not want to print anything in that module: then, we put in a function and will be called only when executed with the help of an 'if'\n",
        "\n",
        "```\n",
        "if(__name__==\"__main__\"):\n",
        "  call that module;\n",
        "```\n",
        " "
      ]
    },
    {
      "cell_type": "markdown",
      "metadata": {
        "id": "4ZUg7-Gn5t1v",
        "colab_type": "text"
      },
      "source": [
        "### Object Oriented Programming\n",
        "* Class\n",
        "  * What properties would a specific set of objects that belong to the class possess\n",
        "  * Attributes described by variables\n",
        "  * Behaviour described by functions, which are called by the name, methods here\n",
        "* Objects \n",
        "  * they are called instances and they possess every attribute of a class\n",
        "\n",
        "```\n",
        "class comp:\n",
        "  def config(self):  # self is the object itself \n",
        "    < ..... >\n",
        "\n",
        "# creating objects as a part of the comp() class\n",
        "comp1 = comp()\n",
        "comp2 = comp()  \n",
        "\n",
        "# type of the object\n",
        "print(type(comp1)) # this would give us <class '__main__.comp'> if we use the current code block to run the code\n",
        "\n",
        "# to call a method of a class\n",
        "comp.config(comp1)\n",
        "# this way, we are calling the method by parametrizing the object\n",
        "# or else, we can use the method this way\n",
        "comp1.config()\n",
        "\n",
        "# comp() is the constructor\n",
        "\n",
        "```\n",
        "* __init__ is a special method which when used need not be called but gets executed for every object that is created\n",
        "* to accept any number of parameters, we must use the same number of parameters in __init__ where self is an automatically considered parameter\n",
        "* and we accept the parameters using self.parameter in order to access it as self.parameter anywhere else within the class\n",
        "* the objects are allocated in a heap memory, where each object has a designated space\n",
        "* the size of an object is decided by the no of variables and the size of the variables\n",
        "* a constructor is what decides how much space is allocated for the objects\n",
        "* whenever a method is used with a 'self' parameter passed, then that particular method operates on the object that is used\n",
        "\n"
      ]
    },
    {
      "cell_type": "code",
      "metadata": {
        "id": "78IVBNLCwqMs",
        "colab_type": "code",
        "colab": {
          "base_uri": "https://localhost:8080/",
          "height": 101
        },
        "outputId": "ce23da3b-bb50-4ebb-a272-1801c0dd47da"
      },
      "source": [
        "class Car:\n",
        "  wheels = 4\n",
        "\n",
        "  def __init__(self, model, year):\n",
        "    self.model = model\n",
        "    self.launch = year\n",
        "\n",
        "  def model(self):\n",
        "    print(\"the model of the car is:\",self.model, \"and it began in the year\", self.launched)  \n",
        "  \n",
        "  def update(self, value):\n",
        "    self.model = value\n",
        "\n",
        "  def compare(self,other):\n",
        "    if self.model == other.model:\n",
        "      return True\n",
        "    else:\n",
        "      return False\n",
        "\n",
        "# creating objects\n",
        "c1 = Car(\"Tata\", 1950)\n",
        "c2 = Car(\"Toyota\", 1970)\n",
        "\n",
        "print(c1.model)\n",
        "print(c2.launch)\n",
        "\n",
        "Car.wheels = 5 # this is an instance variable\n",
        "\n",
        "Car.update(c1, \"Benz\")\n",
        "print(c1.model)\n",
        "Car.update(c2, \"Benz\")\n",
        "print(c2.model)\n",
        "\n",
        "if (c1.compare(c2)):\n",
        "  print(\"the two cars belong to the same model\")"
      ],
      "execution_count": 10,
      "outputs": [
        {
          "output_type": "stream",
          "text": [
            "Tata\n",
            "1970\n",
            "Benz\n",
            "Benz\n",
            "the two cars belong to the same model\n"
          ],
          "name": "stdout"
        }
      ]
    },
    {
      "cell_type": "code",
      "metadata": {
        "id": "9pQFG2UPaCBP",
        "colab_type": "code",
        "colab": {}
      },
      "source": [
        ""
      ],
      "execution_count": 0,
      "outputs": []
    }
  ]
}